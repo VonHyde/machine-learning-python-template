{
    "cells": [
        {
            "cell_type": "markdown",
            "metadata": {},
            "source": [
                "# Explore here"
            ]
        },
        {
            "cell_type": "markdown",
            "metadata": {},
            "source": [
                "Paso 1: Planteamiento del problema y recopilación de datos"
            ]
        },
        {
            "cell_type": "code",
            "execution_count": null,
            "metadata": {},
            "outputs": [],
            "source": [
                "import pandas as pd\n",
                "\n",
                "# your code here\n",
                "\n",
                "airdf = pd.read_csv(\"/workspace/machine-learning-python-template/data/raw/AB_NYC_2019.csv\")\n",
                "airdf.head()\n"
            ]
        },
        {
            "cell_type": "markdown",
            "metadata": {},
            "source": [
                "Paso 2: Exploración y limpieza de datos"
            ]
        },
        {
            "cell_type": "code",
            "execution_count": null,
            "metadata": {},
            "outputs": [],
            "source": [
                "#Extraer informacion de la base de datos\n",
                "\n",
                "airdf.info()"
            ]
        },
        {
            "cell_type": "code",
            "execution_count": null,
            "metadata": {},
            "outputs": [],
            "source": [
                "#Eliminar duplicados.\n",
                "airdf.drop(\"id\", axis = 1).duplicated().sum()\n",
                "total_data = airdf.drop_duplicates(subset = airdf.columns.difference(['id']))\n",
                "print(total_data.shape)\n",
                "total_data.head()"
            ]
        },
        {
            "cell_type": "code",
            "execution_count": null,
            "metadata": {},
            "outputs": [],
            "source": [
                "total_data.drop([\"id\", \"name\", \"host_id\", \"host_name\",\"last_review\",\"reviews_per_month\"], axis = 1, inplace = True)\n",
                "total_data.head()"
            ]
        },
        {
            "cell_type": "code",
            "execution_count": null,
            "metadata": {},
            "outputs": [],
            "source": [
                "import matplotlib.pyplot as plt \n",
                "import seaborn as sns\n",
                "\n",
                "fig, axis = plt.subplots(2, 2, figsize = (10, 7))\n",
                "\n",
                "# Crear un histograma múltiple\n",
                "sns.histplot(ax = axis[0, 0], data = total_data, x = \"neighbourhood_group\")\n",
                "sns.histplot(ax = axis[1, 0], data = total_data, x = \"neighbourhood\", bins= 6000).set_xticks([])\n",
                "sns.histplot(ax = axis[0, 1], data = total_data, x = \"room_type\")\n",
                "fig.delaxes(axis[1, 1])\n",
                "\n",
                "\n",
                "# Ajustar el layout\n",
                "plt.tight_layout()\n",
                "\n",
                "# Mostrar el plot\n",
                "plt.show()"
            ]
        },
        {
            "cell_type": "code",
            "execution_count": null,
            "metadata": {},
            "outputs": [],
            "source": [
                "fig, axis = plt.subplots(2, 5, figsize = (30, 10), gridspec_kw={'height_ratios': [6, 1]})\n",
                "\n",
                "\n",
                "# Crear una figura múltiple con histogramas y diagramas de caja\n",
                "sns.histplot(ax = axis[0, 0], data = total_data, x = \"price\").set(xlabel = None)\n",
                "sns.boxplot(ax = axis[1, 0], data = total_data, x = \"price\")\n",
                "sns.histplot(ax = axis[0, 1], data = total_data, x = \"minimum_nights\").set(xlabel = None, ylabel = None)\n",
                "sns.boxplot(ax = axis[1, 1], data = total_data, x = \"minimum_nights\")\n",
                "sns.histplot(ax = axis[0, 2], data = total_data, x = \"number_of_reviews\").set(xlabel = None)\n",
                "sns.boxplot(ax = axis[1, 2], data = total_data, x = \"number_of_reviews\")\n",
                "sns.histplot(ax = axis[0, 3], data = total_data, x = \"calculated_host_listings_count\").set(xlabel = None)\n",
                "sns.boxplot(ax = axis[1, 3], data = total_data, x = \"calculated_host_listings_count\")\n",
                "sns.histplot(ax = axis[0, 4], data = total_data, x = \"availability_365\").set(xlabel = None)\n",
                "sns.boxplot(ax = axis[1, 4], data = total_data, x = \"availability_365\")\n",
                "\n",
                "\n",
                "# Ajustar el layout\n",
                "plt.tight_layout()\n",
                "\n",
                "# Mostrar el plot\n",
                "plt.show()"
            ]
        },
        {
            "cell_type": "code",
            "execution_count": null,
            "metadata": {},
            "outputs": [],
            "source": []
        }
    ],
    "metadata": {
        "kernelspec": {
            "display_name": "Python 3.8.13 64-bit ('3.8.13')",
            "language": "python",
            "name": "python3"
        },
        "language_info": {
            "codemirror_mode": {
                "name": "ipython",
                "version": 3
            },
            "file_extension": ".py",
            "mimetype": "text/x-python",
            "name": "python",
            "nbconvert_exporter": "python",
            "pygments_lexer": "ipython3",
            "version": "3.8.13"
        },
        "orig_nbformat": 4,
        "vscode": {
            "interpreter": {
                "hash": "110cc1dee26208153f2972f08a2ad52b6a56238dc66d48e87fb757ef2996db56"
            }
        }
    },
    "nbformat": 4,
    "nbformat_minor": 2
}
